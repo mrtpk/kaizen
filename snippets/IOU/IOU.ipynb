{
 "cells": [
  {
   "cell_type": "markdown",
   "metadata": {},
   "source": [
    "![IOU](resources/iou/iou.png)\n",
    "\n",
    "Consider above diagram. If we get width and height of two bounding boxes namely Box and Anchor, we can center those bounding boxes at origin to do IOU calculation."
   ]
  },
  {
   "cell_type": "code",
   "execution_count": 23,
   "metadata": {},
   "outputs": [],
   "source": [
    "import numpy as np\n",
    "def get_iou(box, anchor):\n",
    "    \"\"\"\n",
    "    Calculates IOU between box and anchor\n",
    "    by centering them to origin. The box and\n",
    "    anchor will be in [width, height] format.\n",
    "    \"\"\"\n",
    "    box = np.array(box)\n",
    "    anchor = np.array(anchor)\n",
    "    b_max = box // 2\n",
    "    b_min = - b_max\n",
    "    a_max = anchor // 2\n",
    "    a_min = - a_max\n",
    "    i_min = np.maximum(a_min, b_min)\n",
    "    i_max = np.minimum(a_max, b_max)\n",
    "    i_wh = np.maximum(i_max - i_min, 0)\n",
    "    i_area = i_wh[0] * i_wh[1]\n",
    "    b_area = box[0] * box[1]\n",
    "    a_area = anchor[0] * anchor[1]\n",
    "    iou = i_area / (b_area + a_area - i_area)\n",
    "    return iou"
   ]
  },
  {
   "cell_type": "code",
   "execution_count": 25,
   "metadata": {},
   "outputs": [
    {
     "data": {
      "text/plain": [
       "0.25"
      ]
     },
     "execution_count": 25,
     "metadata": {},
     "output_type": "execute_result"
    }
   ],
   "source": [
    "get_iou([10, 10], [20, 20])"
   ]
  },
  {
   "cell_type": "code",
   "execution_count": null,
   "metadata": {},
   "outputs": [],
   "source": []
  },
  {
   "cell_type": "code",
   "execution_count": null,
   "metadata": {},
   "outputs": [],
   "source": []
  }
 ],
 "metadata": {
  "kernelspec": {
   "display_name": "Python 3",
   "language": "python",
   "name": "python3"
  },
  "language_info": {
   "codemirror_mode": {
    "name": "ipython",
    "version": 3
   },
   "file_extension": ".py",
   "mimetype": "text/x-python",
   "name": "python",
   "nbconvert_exporter": "python",
   "pygments_lexer": "ipython3",
   "version": "3.7.4"
  }
 },
 "nbformat": 4,
 "nbformat_minor": 2
}
