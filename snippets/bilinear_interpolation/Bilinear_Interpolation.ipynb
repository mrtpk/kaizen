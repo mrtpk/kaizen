{
 "cells": [
  {
   "cell_type": "code",
   "execution_count": 1,
   "metadata": {},
   "outputs": [],
   "source": [
    "import numpy as np\n",
    "import math\n",
    "import cv2"
   ]
  },
  {
   "cell_type": "code",
   "execution_count": 167,
   "metadata": {},
   "outputs": [],
   "source": [
    "def bilinear_interpolation_ref(img, new_row_sz, new_col_sz):\n",
    "    old_row_sz, old_col_sz = img.shape[:2]\n",
    "    new_img = np.zeros(shape=(new_row_sz, new_col_sz), dtype=np.float64)\n",
    "    \n",
    "    row_scale = (old_row_sz-1) / (new_row_sz-1)\n",
    "    col_scale = (old_col_sz-1) / (new_col_sz-1)\n",
    "#     print(\"scales\", row_scale, col_scale)\n",
    "    \n",
    "    row_mapping = []\n",
    "    col_mapping = []\n",
    "    \n",
    "    row_nearest_idxs = []\n",
    "    col_nearest_idxs = []\n",
    "    \n",
    "    row_deltas = []\n",
    "    col_deltas = []\n",
    "    new_col_idx = 1\n",
    "    for new_row_idx in range(0, new_row_sz):\n",
    "        for new_col_idx in range(0, new_col_sz):\n",
    "            row_mapped_pos = row_scale * new_row_idx \n",
    "            row_mapping.append(row_mapped_pos)\n",
    "            col_mapped_pos = col_scale * new_col_idx\n",
    "            col_mapping.append(col_mapped_pos)\n",
    "            \n",
    "            row_nearest_idx = int(np.floor(row_mapped_pos))\n",
    "#             row_nearest_idx = min(row_nearest_idx, old_row_sz - 2)\n",
    "#             row_nearest_idx = max(row_nearest_idx, 1)\n",
    "            \n",
    "            row_nearest_idxs.append(row_nearest_idx)\n",
    "            col_nearest_idx = int(np.floor(col_mapped_pos))\n",
    "#             col_nearest_idx = min(col_nearest_idx, old_col_sz - 2)\n",
    "#             col_nearest_idx = max(col_nearest_idx, 1)\n",
    "            col_nearest_idxs.append(col_nearest_idx)\n",
    "            \n",
    "#             print(\"mapped postions\", row_mapped_pos, col_mapped_pos, \"-->\", row_nearest_idx, col_nearest_idx)\n",
    "\n",
    "            row_delta = row_mapped_pos - row_nearest_idx\n",
    "            row_deltas.append(row_delta)\n",
    "            col_delta = col_mapped_pos - col_nearest_idx\n",
    "            col_deltas.append(col_delta)\n",
    "#             print(new_row_idx, new_col_idx, \"-->\", row_nearest_idx, col_nearest_idx, \"with deltas:\", row_delta, col_delta)\n",
    "            \n",
    "            right_top_pixel = img[row_nearest_idx, col_nearest_idx] \n",
    "            \n",
    "#             if row_nearest_idx == old_row_sz - 1:\n",
    "#                 right_bottom_pixel = 0\n",
    "#                 left_bottom_pixel = 0\n",
    "#             elif col_nearest_idx == old_col_sz - 1:\n",
    "#                 left_top_pixel = 0\n",
    "#                 left_bottom_pixel = 0\n",
    "#             else:\n",
    "#                 right_bottom_pixel = img[row_nearest_idx+1, col_nearest_idx] \n",
    "#                 left_bottom_pixel = img[row_nearest_idx+1, col_nearest_idx+1]\n",
    "#                 left_top_pixel = img[row_nearest_idx, col_nearest_idx+1] \n",
    "#                 left_bottom_pixel = img[row_nearest_idx+1, col_nearest_idx+1]\n",
    "            \n",
    "            y_idx = min(row_nearest_idx+1, old_row_sz-1)\n",
    "            x_idx = min(col_nearest_idx+1, old_col_sz-1)\n",
    "            right_bottom_pixel = img[y_idx, col_nearest_idx] \n",
    "            left_top_pixel = img[row_nearest_idx, x_idx] \n",
    "            left_bottom_pixel = img[y_idx, x_idx]\n",
    "            \n",
    "            new_pixel = right_top_pixel * (1 - row_delta)  * (1 - col_delta) + \\\n",
    "                        right_bottom_pixel  * (row_delta)  * (1 - col_delta) + \\\n",
    "                        left_top_pixel * (1 - row_delta)  * (col_delta) + \\\n",
    "                        left_bottom_pixel * (row_delta)  * (col_delta) \n",
    "            new_img[new_row_idx, new_col_idx] = new_pixel\n",
    "    return new_img\n",
    "    "
   ]
  },
  {
   "cell_type": "code",
   "execution_count": null,
   "metadata": {},
   "outputs": [],
   "source": [
    "img = cv2.imread(\"./lena.png\")\n",
    "img = img[:7, :7, 0]; img"
   ]
  },
  {
   "cell_type": "code",
   "execution_count": null,
   "metadata": {},
   "outputs": [],
   "source": [
    "%%timeit\n",
    "bilinear_along_one_axis(img=img, new_row_sz=12, new_col_sz=12)"
   ]
  },
  {
   "cell_type": "code",
   "execution_count": null,
   "metadata": {},
   "outputs": [],
   "source": [
    "cv_img = cv2.resize(img, (12, 12), interpolation = cv2.INTER_LINEAR); cv_img"
   ]
  },
  {
   "cell_type": "code",
   "execution_count": null,
   "metadata": {},
   "outputs": [],
   "source": [
    "np.round(tmp).astype(np.uint8)"
   ]
  },
  {
   "cell_type": "code",
   "execution_count": null,
   "metadata": {},
   "outputs": [],
   "source": [
    "np.round(tmp).astype(np.uint8) == cv_img"
   ]
  },
  {
   "cell_type": "code",
   "execution_count": 92,
   "metadata": {},
   "outputs": [],
   "source": [
    "def do_bilinear_resize(img, new_size):\n",
    "    '''\n",
    "    Takes in a image with three channels and\n",
    "    resizes to @param: new_size\n",
    "    '''\n",
    "    num_row_img, num_col_img, num_channels = img.shape\n",
    "    resized_img = np.zeros((new_size[0], new_size[1], img.shape[-1]), dtype=np.uint8)\n",
    "    num_row_resized_img, num_col_resized_img = resized_img.shape[:2]\n",
    "    \n",
    "    def get_nearest_idxs_with_deltas(old_sz, new_sz):\n",
    "        scale = (old_sz - 1) / (new_sz -1)\n",
    "        nearest_idxs, deltas = [], []\n",
    "        for new_idx in range(0, new_sz):\n",
    "            mapped_position = scale * new_idx\n",
    "            nearest_idx = math.floor(mapped_position)\n",
    "            delta = mapped_position - nearest_idx\n",
    "            nearest_idxs.append(nearest_idx)\n",
    "            deltas.append(delta)\n",
    "            \n",
    "#             print(\"idx mapped: \", new_idx, \"-->\", nearest_idx, \"delta:\", delta)\n",
    "        return nearest_idxs, deltas\n",
    "    \n",
    "#     print(\"rows\")\n",
    "    row_nearest_idxs, row_deltas = get_nearest_idxs_with_deltas(old_sz=num_row_img, new_sz=num_row_resized_img)\n",
    "#     print(\"cols\")\n",
    "    col_nearest_idxs, col_deltas = get_nearest_idxs_with_deltas(old_sz=num_col_img, new_sz=num_col_resized_img)\n",
    "    \n",
    "    for channel_idx in range(0, num_channels):\n",
    "        for row_idx in range(0, num_row_resized_img):\n",
    "            for col_idx in range(0, num_col_resized_img):\n",
    "                row_nearest_idx = row_nearest_idxs[row_idx]\n",
    "                col_nearest_idx = col_nearest_idxs[col_idx]\n",
    "                row_delta = row_deltas[row_idx]\n",
    "                col_delta = col_deltas[col_idx]\n",
    "                \n",
    "                row_idx_next = row_nearest_idx + 1\n",
    "                row_idx_next = min(row_idx_next, num_row_img - 1)\n",
    "                col_idx_next = col_nearest_idx + 1\n",
    "                col_idx_next = min(col_idx_next, num_col_img - 1)\n",
    "\n",
    "                right_top_pixel = img[row_nearest_idx, col_nearest_idx, channel_idx].astype(np.float32) \n",
    "                right_bottom_pixel = img[row_idx_next, col_nearest_idx, channel_idx].astype(np.float32) \n",
    "                left_top_pixel = img[row_nearest_idx, col_idx_next, channel_idx].astype(np.float32) \n",
    "                left_bottom_pixel = img[row_idx_next, col_idx_next, channel_idx].astype(np.float32)\n",
    "                \n",
    "                \n",
    "                new_pixel = (right_top_pixel * (1 - row_delta)  * (1 - col_delta)).astype(np.float32) + \\\n",
    "                            (right_bottom_pixel  * (row_delta)  * (1 - col_delta)).astype(np.float32) + \\\n",
    "                            (left_top_pixel * (1 - row_delta)  * (col_delta)).astype(np.float32) + \\\n",
    "                            (left_bottom_pixel * (row_delta)  * (col_delta)).astype(np.float32)\n",
    "#                 import pdb; pdb.set_trace()\n",
    "                resized_img[row_idx, col_idx, channel_idx] = new_pixel\n",
    "    return resized_img"
   ]
  },
  {
   "cell_type": "code",
   "execution_count": null,
   "metadata": {},
   "outputs": [],
   "source": []
  },
  {
   "cell_type": "code",
   "execution_count": 189,
   "metadata": {},
   "outputs": [
    {
     "data": {
      "text/plain": [
       "(512, 512, 3)"
      ]
     },
     "execution_count": 189,
     "metadata": {},
     "output_type": "execute_result"
    }
   ],
   "source": [
    "img = cv2.imread(\"./lena.png\")\n",
    "img = cv2.cvtColor(img, cv2.COLOR_BGR2RGB)\n",
    "img.shape"
   ]
  },
  {
   "cell_type": "code",
   "execution_count": 101,
   "metadata": {},
   "outputs": [
    {
     "data": {
      "text/plain": [
       "True"
      ]
     },
     "execution_count": 101,
     "metadata": {},
     "output_type": "execute_result"
    }
   ],
   "source": [
    "res = do_bilinear_resize(img=img, new_size=(512//2, 512//2));\n",
    "cv_res = cv2.resize(img, (256, 256), interpolation = cv2.INTER_LINEAR)\n",
    "cv2.imwrite(\"lena_res_256.jpg\", res)\n",
    "cv2.imwrite(\"lena_res_cv_256.jpg\", res)"
   ]
  },
  {
   "cell_type": "code",
   "execution_count": 102,
   "metadata": {},
   "outputs": [
    {
     "data": {
      "text/plain": [
       "False"
      ]
     },
     "execution_count": 102,
     "metadata": {},
     "output_type": "execute_result"
    }
   ],
   "source": [
    "res = do_bilinear_resize(img=img, new_size=(1024, 1024));\n",
    "cv_res = cv2.resize(img, (1024, 1024), interpolation = cv2.INTER_LINEAR)\n",
    "cv2.imwrite(\"lena_res_1024.jpg\", res)\n",
    "cv2.imwrite(\"lena_res_cv_1024.jpg\", res)"
   ]
  },
  {
   "cell_type": "code",
   "execution_count": null,
   "metadata": {},
   "outputs": [],
   "source": [
    "%%timeit\n",
    "do_bilinear_resize(img, new_size=(12, 12));"
   ]
  },
  {
   "cell_type": "code",
   "execution_count": 83,
   "metadata": {},
   "outputs": [
    {
     "name": "stdout",
     "output_type": "stream",
     "text": [
      "rows\n",
      "idx mapped:  0 --> 0 delta: 0.0\n",
      "idx mapped:  1 --> 0 delta: 0.5454545454545454\n",
      "idx mapped:  2 --> 1 delta: 0.09090909090909083\n",
      "idx mapped:  3 --> 1 delta: 0.6363636363636362\n",
      "idx mapped:  4 --> 2 delta: 0.18181818181818166\n",
      "idx mapped:  5 --> 2 delta: 0.7272727272727271\n",
      "idx mapped:  6 --> 3 delta: 0.2727272727272725\n",
      "idx mapped:  7 --> 3 delta: 0.8181818181818179\n",
      "idx mapped:  8 --> 4 delta: 0.3636363636363633\n",
      "idx mapped:  9 --> 4 delta: 0.9090909090909083\n",
      "idx mapped:  10 --> 5 delta: 0.45454545454545414\n",
      "idx mapped:  11 --> 6 delta: 0.0\n",
      "cols\n",
      "idx mapped:  0 --> 0 delta: 0.0\n",
      "idx mapped:  1 --> 0 delta: 0.5454545454545454\n",
      "idx mapped:  2 --> 1 delta: 0.09090909090909083\n",
      "idx mapped:  3 --> 1 delta: 0.6363636363636362\n",
      "idx mapped:  4 --> 2 delta: 0.18181818181818166\n",
      "idx mapped:  5 --> 2 delta: 0.7272727272727271\n",
      "idx mapped:  6 --> 3 delta: 0.2727272727272725\n",
      "idx mapped:  7 --> 3 delta: 0.8181818181818179\n",
      "idx mapped:  8 --> 4 delta: 0.3636363636363633\n",
      "idx mapped:  9 --> 4 delta: 0.9090909090909083\n",
      "idx mapped:  10 --> 5 delta: 0.45454545454545414\n",
      "idx mapped:  11 --> 6 delta: 0.0\n"
     ]
    }
   ],
   "source": [
    "res = do_bilinear_resize(img, new_size=(12, 12))[:,:,0]"
   ]
  },
  {
   "cell_type": "code",
   "execution_count": 84,
   "metadata": {},
   "outputs": [
    {
     "data": {
      "text/plain": [
       "array([[125, 125, 133, 128, 120, 116, 123],\n",
       "       [125, 125, 133, 128, 120, 116, 123],\n",
       "       [125, 125, 133, 128, 120, 116, 123],\n",
       "       [125, 125, 133, 128, 120, 116, 123],\n",
       "       [125, 125, 133, 128, 120, 116, 123],\n",
       "       [123, 123, 113, 111, 120, 115, 120],\n",
       "       [119, 119, 116, 115, 125, 112, 116]], dtype=uint8)"
      ]
     },
     "execution_count": 84,
     "metadata": {},
     "output_type": "execute_result"
    }
   ],
   "source": [
    "img[:,:,0]"
   ]
  },
  {
   "cell_type": "code",
   "execution_count": 85,
   "metadata": {},
   "outputs": [
    {
     "data": {
      "text/plain": [
       "array([[125, 125, 125, 130, 132, 129, 125, 121, 118, 116, 119, 123],\n",
       "       [125, 125, 125, 130, 132, 129, 125, 121, 118, 116, 119, 123],\n",
       "       [125, 125, 125, 130, 132, 129, 125, 121, 118, 116, 119, 123],\n",
       "       [125, 125, 125, 130, 132, 129, 125, 121, 118, 116, 119, 123],\n",
       "       [125, 125, 125, 130, 132, 129, 125, 121, 118, 116, 119, 123],\n",
       "       [125, 125, 125, 130, 132, 129, 125, 121, 118, 116, 119, 123],\n",
       "       [125, 125, 125, 130, 132, 129, 125, 121, 118, 116, 119, 123],\n",
       "       [125, 125, 125, 130, 132, 129, 125, 121, 118, 116, 119, 123],\n",
       "       [124, 124, 124, 125, 125, 122, 121, 120, 118, 116, 118, 121],\n",
       "       [123, 123, 122, 117, 114, 113, 114, 118, 118, 115, 117, 120],\n",
       "       [121, 121, 120, 116, 114, 113, 115, 120, 119, 114, 115, 118],\n",
       "       [119, 119, 118, 117, 115, 115, 117, 123, 120, 113, 113, 116]],\n",
       "      dtype=uint8)"
      ]
     },
     "execution_count": 85,
     "metadata": {},
     "output_type": "execute_result"
    }
   ],
   "source": [
    "res"
   ]
  },
  {
   "cell_type": "code",
   "execution_count": 86,
   "metadata": {},
   "outputs": [
    {
     "data": {
      "text/plain": [
       "array([[125, 125, 125, 129, 132, 129, 125, 121, 118, 116, 120, 123],\n",
       "       [125, 125, 125, 129, 132, 129, 126, 121, 118, 116, 120, 123],\n",
       "       [125, 125, 125, 129, 132, 129, 125, 121, 118, 116, 120, 123],\n",
       "       [125, 125, 125, 129, 132, 129, 126, 121, 118, 116, 120, 123],\n",
       "       [125, 125, 125, 129, 132, 129, 125, 121, 118, 116, 120, 123],\n",
       "       [125, 125, 125, 129, 132, 129, 126, 121, 118, 116, 120, 123],\n",
       "       [125, 125, 125, 129, 132, 129, 126, 121, 118, 116, 120, 123],\n",
       "       [125, 125, 125, 129, 132, 129, 125, 121, 118, 116, 120, 123],\n",
       "       [124, 124, 124, 124, 123, 121, 120, 120, 118, 116, 119, 122],\n",
       "       [123, 123, 123, 117, 113, 112, 114, 119, 118, 115, 118, 120],\n",
       "       [120, 120, 120, 117, 115, 114, 116, 122, 118, 113, 116, 118],\n",
       "       [119, 119, 119, 117, 116, 115, 118, 124, 119, 112, 114, 116]],\n",
       "      dtype=uint8)"
      ]
     },
     "execution_count": 86,
     "metadata": {},
     "output_type": "execute_result"
    }
   ],
   "source": [
    "res_cv = cv2.resize(img, (12, 12), interpolation = cv2.INTER_LINEAR); res_cv[:,:,0]"
   ]
  },
  {
   "cell_type": "code",
   "execution_count": null,
   "metadata": {},
   "outputs": [],
   "source": []
  },
  {
   "cell_type": "markdown",
   "metadata": {},
   "source": [
    "## Bilinear interpolation as convolution"
   ]
  },
  {
   "cell_type": "code",
   "execution_count": 163,
   "metadata": {},
   "outputs": [],
   "source": [
    "\n",
    "def get_upsampling_conv_properties(N, R):\n",
    "    '''\n",
    "    Returns parameters for upsampling convolution:\n",
    "        # input, N X N --> output, R X R\n",
    "        # 1. S := (N - 1) /  gcd(N-1, R-1)\n",
    "        # 2. k := (R - 1) /  gcd(N-1, R-1)\n",
    "        # 3. Convolution(kxk, stride=S, lhs_dilation=k, padding=k-1)\n",
    "    '''\n",
    "    def gcd(a,b):\n",
    "        if(b==0):\n",
    "            return a\n",
    "        else:\n",
    "            return gcd(b,a%b)\n",
    "    \n",
    "    _gcd_N_R = gcd(N, R)\n",
    "    S = (N - 1) // _gcd_N_R\n",
    "    K = (R - 1) // _gcd_N_R\n",
    "\n",
    "    kernel_sz = K * 2 - 1\n",
    "    padding = K-1\n",
    "    lhs_dillation = K\n",
    "    return K, kernel_sz, padding, lhs_dillation\n",
    "\n",
    "def insert_zeros_2d(a, N=1, zero_point=0):\n",
    "    '''\n",
    "    Expand input 2d array for specified dillation\n",
    "    '''\n",
    "    out = np.ones( (N+1)*np.array(a.shape)-N, dtype=a.dtype) * zero_point\n",
    "    out[::N+1,::N+1] = a\n",
    "    return out\n",
    "\n",
    "def get_bilinear_1D_kernel(n:int):\n",
    "    '''\n",
    "    Builds bilinear 1d kernel\n",
    "    '''\n",
    "    kernel_sz = n * 2 - 1\n",
    "    kernel = np.zeros(shape=(kernel_sz,))\n",
    "    for idx in range(0, n):\n",
    "        v = idx + 1.0\n",
    "        kernel[idx] = v\n",
    "        kernel[n * 2 - 2 - idx] = v\n",
    "    return kernel\n",
    "\n",
    "def get_bilinear_2D_kernel(n:int):\n",
    "    kernel_1d = get_bilinear_1D_kernel(n)\n",
    "    kernel_2d = np.zeros((kernel_1d.shape[0], kernel_1d.shape[0]), dtype=np.int)\n",
    "    kernel_2d[:,:] = kernel_1d\n",
    "    kernel_2d = kernel_2d * kernel_2d.T\n",
    "    return kernel_2d"
   ]
  },
  {
   "cell_type": "code",
   "execution_count": 164,
   "metadata": {},
   "outputs": [
    {
     "data": {
      "text/plain": [
       "array([1., 2., 3., 2., 1.])"
      ]
     },
     "execution_count": 164,
     "metadata": {},
     "output_type": "execute_result"
    }
   ],
   "source": [
    "get_bilinear_1D_kernel(n = 3)"
   ]
  },
  {
   "cell_type": "code",
   "execution_count": 165,
   "metadata": {},
   "outputs": [],
   "source": [
    "arr = np.zeros((5,5))\n",
    "arr[:,:] = get_bilinear_1D_kernel(n = 3)"
   ]
  },
  {
   "cell_type": "code",
   "execution_count": 166,
   "metadata": {},
   "outputs": [
    {
     "data": {
      "text/plain": [
       "array([[ 0,  0,  0,  0,  0,  0,  0,  0,  0,  0,  0],\n",
       "       [ 0,  0,  0,  0,  0,  0,  0,  0,  0,  0,  0],\n",
       "       [ 0,  0,  0,  0,  0,  3,  0,  0,  6,  0,  0],\n",
       "       [ 0,  0,  0,  0,  0,  0,  0,  0,  0,  0,  0],\n",
       "       [ 0,  0,  0,  0,  0,  0,  0,  0,  0,  0,  0],\n",
       "       [ 0,  0,  9,  0,  0, 12,  0,  0, 15,  0,  0],\n",
       "       [ 0,  0,  0,  0,  0,  0,  0,  0,  0,  0,  0],\n",
       "       [ 0,  0,  0,  0,  0,  0,  0,  0,  0,  0,  0],\n",
       "       [ 0,  0, 18,  0,  0, 21,  0,  0, 24,  0,  0],\n",
       "       [ 0,  0,  0,  0,  0,  0,  0,  0,  0,  0,  0],\n",
       "       [ 0,  0,  0,  0,  0,  0,  0,  0,  0,  0,  0]])"
      ]
     },
     "execution_count": 166,
     "metadata": {},
     "output_type": "execute_result"
    }
   ],
   "source": [
    "arr = np.array([0, 3, 6, 9, 12, 15, 18, 21, 24]).reshape(3,3)\n",
    "expanded = insert_zeros_2d(a=arr, N=2, zero_point=0)\n",
    "expanded = np.pad(expanded, pad_width=2)\n",
    "expanded"
   ]
  },
  {
   "cell_type": "code",
   "execution_count": 131,
   "metadata": {},
   "outputs": [],
   "source": [
    "kernel = np.array([1,2,3,2,1,2,4,6,4,2,3,6,9,6,3,2,4,6,4,2,1,2,3,2,1]).reshape(5, 5)"
   ]
  },
  {
   "cell_type": "code",
   "execution_count": 137,
   "metadata": {},
   "outputs": [
    {
     "data": {
      "text/plain": [
       "array([[ 0,  2,  4,  6],\n",
       "       [ 6,  8, 10, 12],\n",
       "       [12, 14, 16, 18],\n",
       "       [18, 20, 22, 24]], dtype=uint8)"
      ]
     },
     "execution_count": 137,
     "metadata": {},
     "output_type": "execute_result"
    }
   ],
   "source": [
    "do_bilinear_resize(img=arr[..., np.newaxis], new_size=(4,4)).reshape(4,4)"
   ]
  },
  {
   "cell_type": "code",
   "execution_count": 144,
   "metadata": {},
   "outputs": [
    {
     "data": {
      "text/plain": [
       "array([[[ 0.,  2.,  4.,  6.],\n",
       "        [ 6.,  8., 10., 12.],\n",
       "        [12., 14., 16., 18.],\n",
       "        [18., 20., 22., 24.]]])"
      ]
     },
     "execution_count": 144,
     "metadata": {},
     "output_type": "execute_result"
    }
   ],
   "source": [
    "from numpy.lib.stride_tricks import as_strided\n",
    "\n",
    "def conv2d(a, b, s=1):\n",
    "    Hout = (a.shape[1] - b.shape[0]) // s + 1\n",
    "    Wout = (a.shape[2] - b.shape[1]) // s + 1\n",
    "    Stride = (a.strides[0], a.strides[1] * s, a.strides[2] * s, a.strides[1], a.strides[2], a.strides[3])\n",
    "\n",
    "    a = as_strided(a, (a.shape[0], Hout, Wout, b.shape[0], b.shape[1], a.shape[3]), Stride)\n",
    "\n",
    "    return np.tensordot(a, b, axes=3)\n",
    "\n",
    "# test\n",
    "conv2d(a=expanded.reshape(1,11,11,1), b=kernel.reshape(5,5,1), s=2) / 9"
   ]
  },
  {
   "cell_type": "code",
   "execution_count": 171,
   "metadata": {},
   "outputs": [
    {
     "data": {
      "text/plain": [
       "(1, 5, 1, 1)"
      ]
     },
     "execution_count": 171,
     "metadata": {},
     "output_type": "execute_result"
    }
   ],
   "source": [
    "kernel_1d = get_bilinear_1D_kernel(n = 3); kernel_1d.reshape(1,1,5,1).T.shape"
   ]
  },
  {
   "cell_type": "code",
   "execution_count": 187,
   "metadata": {},
   "outputs": [],
   "source": [
    "arr1 = conv2d(a=expanded.reshape(1,11,11,1), b=kernel_1d.reshape(1, 5, 1), s=2)\n",
    "arr2 = conv2d(a=arr1[..., np.newaxis], b=kernel_1d.reshape(1, 1, 5).T, s=2)"
   ]
  },
  {
   "cell_type": "code",
   "execution_count": 188,
   "metadata": {},
   "outputs": [
    {
     "data": {
      "text/plain": [
       "array([[[54., 90.]]])"
      ]
     },
     "execution_count": 188,
     "metadata": {},
     "output_type": "execute_result"
    }
   ],
   "source": [
    "arr2"
   ]
  },
  {
   "cell_type": "code",
   "execution_count": null,
   "metadata": {},
   "outputs": [],
   "source": []
  },
  {
   "cell_type": "code",
   "execution_count": null,
   "metadata": {},
   "outputs": [],
   "source": []
  },
  {
   "cell_type": "code",
   "execution_count": null,
   "metadata": {},
   "outputs": [],
   "source": [
    "# TODO: Decompose and see"
   ]
  },
  {
   "cell_type": "markdown",
   "metadata": {},
   "source": [
    "+ OpenCV resize() result is wrong - https://stackoverflow.com/a/43701718/6561141\n",
    "+ Resize an image with bilinear interpolation without imresize https://stackoverflow.com/a/26143655/6561141\n",
    "+  Richard Alan Peters' II digital image processing slides on interpolation - https://ia802707.us.archive.org/23/items/Lectures_on_Image_Processing/EECE_4353_15_Resampling.pdf\n",
    "+ Understanding Bilinear Image Resizing https://chao-ji.github.io/jekyll/update/2018/07/19/BilinearResize.html\n",
    "+ bilinear interpolation as convolution - https://github.com/tensorflow/tensorflow/blob/cddf9415564b16c2bc234df68d3eb44fc8689dae/tensorflow/compiler/tf2xla/kernels/image_resize_ops.cc"
   ]
  }
 ],
 "metadata": {
  "kernelspec": {
   "display_name": "Python 3",
   "language": "python",
   "name": "python3"
  },
  "language_info": {
   "codemirror_mode": {
    "name": "ipython",
    "version": 3
   },
   "file_extension": ".py",
   "mimetype": "text/x-python",
   "name": "python",
   "nbconvert_exporter": "python",
   "pygments_lexer": "ipython3",
   "version": "3.8.5"
  }
 },
 "nbformat": 4,
 "nbformat_minor": 4
}
