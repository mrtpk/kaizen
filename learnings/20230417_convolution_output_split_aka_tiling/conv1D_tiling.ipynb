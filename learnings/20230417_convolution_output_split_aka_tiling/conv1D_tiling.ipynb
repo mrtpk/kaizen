{
 "cells": [
  {
   "cell_type": "code",
   "execution_count": 1,
   "id": "c32b690e",
   "metadata": {},
   "outputs": [],
   "source": [
    "import tensorflow as tf\n",
    "import numpy as np"
   ]
  },
  {
   "cell_type": "code",
   "execution_count": 2,
   "id": "1fd31994",
   "metadata": {},
   "outputs": [],
   "source": [
    "input_dims = 20\n",
    "modified_shape = 10\n",
    "input_shape=[input_dims, 1]"
   ]
  },
  {
   "cell_type": "code",
   "execution_count": 42,
   "id": "1c88d6b1",
   "metadata": {},
   "outputs": [],
   "source": [
    "def get_model(input_shape, is_kernel_one):\n",
    "    kernel_initializer='random_uniform'\n",
    "    if is_kernel_one:\n",
    "        kernel_initializer='ones'\n",
    "        \n",
    "    inputs = tf.keras.Input(shape=input_shape)\n",
    "    x = inputs\n",
    "    x = tf.pad(x, paddings=[[0, 0], [0, 0], [0, 0]], mode='CONSTANT', constant_values=1)\n",
    "    x = tf.keras.layers.Conv1D(filters=1, kernel_size=3, strides=1, \n",
    "                               padding='valid', \n",
    "                               kernel_initializer=kernel_initializer,\n",
    "                               bias_initializer='zeros',\n",
    "                               )(x)\n",
    "    x = tf.pad(x, paddings=[[0, 0], [4, 0], [0, 0]], mode='CONSTANT', constant_values=1)\n",
    "    x = tf.keras.layers.Conv1D(filters=1, kernel_size=3, strides=2, \n",
    "                               padding='valid', \n",
    "                               kernel_initializer=kernel_initializer,\n",
    "                               bias_initializer='zeros',\n",
    "                               )(x)\n",
    "    \n",
    "    model = tf.keras.Model(inputs=inputs, outputs=x, name=\"test_model\")\n",
    "    \n",
    "    return model"
   ]
  },
  {
   "cell_type": "code",
   "execution_count": 43,
   "id": "d9d59f4e",
   "metadata": {},
   "outputs": [],
   "source": [
    "def get_input_tensor(input_shape, is_kernel_one):\n",
    "    input_tensor = np.random.rand(*input_shape)[np.newaxis, ...]\n",
    "    if is_kernel_one:\n",
    "        input_tensor = np.zeros(input_shape)[np.newaxis, ...]\n",
    "    return input_tensor\n",
    "\n",
    "def get_output(model, input_tensor):\n",
    "    output = np.array(model(input_tensor))\n",
    "    return output.flatten()"
   ]
  },
  {
   "cell_type": "markdown",
   "id": "c3f64645",
   "metadata": {},
   "source": [
    "### Receptive field of the network"
   ]
  },
  {
   "cell_type": "code",
   "execution_count": 44,
   "id": "c07fd8fb",
   "metadata": {},
   "outputs": [],
   "source": [
    "def get_receptive_field(model):\n",
    "    layer_wise = {}\n",
    "    receptive_field = 1\n",
    "    for layer in model.layers[::-1]:\n",
    "        config = layer.get_config()\n",
    "        stride = 1\n",
    "        kernel_size = 1\n",
    "        if \"strides\" in config:\n",
    "            stride = config[\"strides\"][0]\n",
    "        if \"kernel_size\" in config:\n",
    "            kernel_size = config[\"kernel_size\"][0]\n",
    "        receptive_field = receptive_field * stride + (kernel_size - stride)\n",
    "        layer_wise[config[\"name\"]] = receptive_field\n",
    "    return receptive_field, layer_wise"
   ]
  },
  {
   "cell_type": "code",
   "execution_count": 45,
   "id": "cb8fa51a",
   "metadata": {},
   "outputs": [
    {
     "name": "stdout",
     "output_type": "stream",
     "text": [
      "Receptive field 5\n"
     ]
    }
   ],
   "source": [
    "is_kernel_one=False\n",
    "input_tensor = get_input_tensor(input_shape, is_kernel_one)\n",
    "model = get_model(input_shape, is_kernel_one=is_kernel_one)\n",
    "receptive_field = get_receptive_field(model)[0]\n",
    "print(\"Receptive field\", receptive_field)"
   ]
  },
  {
   "cell_type": "markdown",
   "id": "2da7ca3b",
   "metadata": {},
   "source": [
    "### Effective stride"
   ]
  },
  {
   "cell_type": "code",
   "execution_count": 46,
   "id": "a84a001b",
   "metadata": {},
   "outputs": [],
   "source": [
    "def get_effective_stride(model):\n",
    "    layer_wise = {}\n",
    "    effective_stride = 1\n",
    "    for layer in model.layers[::-1]:\n",
    "        config = layer.get_config()\n",
    "        stride = 1\n",
    "        kernel_size = 1\n",
    "        if \"strides\" in config:\n",
    "            stride = config[\"strides\"][0]\n",
    "        effective_stride = effective_stride * stride\n",
    "        layer_wise[config[\"name\"]] = effective_stride\n",
    "    return effective_stride, layer_wise"
   ]
  },
  {
   "cell_type": "code",
   "execution_count": 47,
   "id": "f36f3c51",
   "metadata": {},
   "outputs": [
    {
     "name": "stdout",
     "output_type": "stream",
     "text": [
      "Effective stride 2\n"
     ]
    }
   ],
   "source": [
    "effective_stride = get_effective_stride(model)[0]\n",
    "print(\"Effective stride\", effective_stride)"
   ]
  },
  {
   "cell_type": "markdown",
   "id": "8c3c26c8",
   "metadata": {},
   "source": [
    "### Effective padding"
   ]
  },
  {
   "cell_type": "code",
   "execution_count": 48,
   "id": "ee93753e",
   "metadata": {},
   "outputs": [],
   "source": [
    "def get_effective_padding(model):\n",
    "    layer_wise = {}\n",
    "    effective_padding = 0\n",
    "    for layer in model.layers[::-1]:\n",
    "        config = layer.get_config()\n",
    "        stride = 1\n",
    "        padding = 0\n",
    "        if \"strides\" in config:\n",
    "            stride = config[\"strides\"][0]\n",
    "        if \"padding\" in config:\n",
    "            if config[\"padding\"] in ['valid']:\n",
    "                padding = 0\n",
    "        if \"node_def\" in config and \"Pad\" in config[\"node_def\"][\"name\"]:\n",
    "            padding = np.sum(config[\"constants\"][1])\n",
    "        effective_padding = stride * effective_padding + padding\n",
    "        layer_wise[config[\"name\"]] = effective_padding\n",
    "    return effective_padding, layer_wise"
   ]
  },
  {
   "cell_type": "code",
   "execution_count": 49,
   "id": "ef8ac1ea",
   "metadata": {},
   "outputs": [
    {
     "name": "stdout",
     "output_type": "stream",
     "text": [
      "Effective padding 4\n"
     ]
    }
   ],
   "source": [
    "effective_padding = get_effective_padding(model)[0]\n",
    "print(\"Effective padding\", effective_padding)"
   ]
  },
  {
   "cell_type": "markdown",
   "id": "088d4192",
   "metadata": {},
   "source": [
    "### Reference output"
   ]
  },
  {
   "cell_type": "code",
   "execution_count": 50,
   "id": "8834547e",
   "metadata": {},
   "outputs": [
    {
     "name": "stdout",
     "output_type": "stream",
     "text": [
      "Model: \"test_model\"\n",
      "_________________________________________________________________\n",
      "Layer (type)                 Output Shape              Param #   \n",
      "=================================================================\n",
      "input_5 (InputLayer)         [(None, 20, 1)]           0         \n",
      "_________________________________________________________________\n",
      "tf_op_layer_PadV2_8 (TensorF [(None, 20, 1)]           0         \n",
      "_________________________________________________________________\n",
      "conv1d_8 (Conv1D)            (None, 18, 1)             4         \n",
      "_________________________________________________________________\n",
      "tf_op_layer_PadV2_9 (TensorF [(None, 22, 1)]           0         \n",
      "_________________________________________________________________\n",
      "conv1d_9 (Conv1D)            (None, 10, 1)             4         \n",
      "=================================================================\n",
      "Total params: 8\n",
      "Trainable params: 8\n",
      "Non-trainable params: 0\n",
      "_________________________________________________________________\n",
      "[-0.08486608 -0.08086114  0.00321689  0.00395104  0.00220385  0.00275447\n",
      "  0.00191425  0.00336804  0.0033351   0.00103537]\n"
     ]
    }
   ],
   "source": [
    "input_shape = [20, 1]\n",
    "is_kernel_one = False\n",
    "# is_kernel_one = True\n",
    "input_tensor = get_input_tensor(input_shape, is_kernel_one)\n",
    "model = get_model(input_shape, is_kernel_one=is_kernel_one)\n",
    "model.summary()\n",
    "ref_output = get_output(model, input_tensor)\n",
    "print(ref_output)"
   ]
  },
  {
   "cell_type": "markdown",
   "id": "ea9b982d",
   "metadata": {},
   "source": [
    "### Influence of padding in the output"
   ]
  },
  {
   "cell_type": "code",
   "execution_count": 51,
   "id": "bd416e37",
   "metadata": {},
   "outputs": [
    {
     "name": "stdout",
     "output_type": "stream",
     "text": [
      "[3. 2. 0. 0. 0. 0. 0. 0. 0. 0.]\n",
      "Padding influenced 2\n"
     ]
    }
   ],
   "source": [
    "input_tensor_zeros = get_input_tensor(input_shape, is_kernel_one=True)\n",
    "model_ref = get_model(input_shape, is_kernel_one=True)\n",
    "pad_output = get_output(model_ref, input_tensor_zeros)\n",
    "num_output_influenced = np.count_nonzero(pad_output)\n",
    "print(pad_output)\n",
    "print(\"Padding influenced\", num_output_influenced)"
   ]
  },
  {
   "cell_type": "markdown",
   "id": "3f6f8bad",
   "metadata": {},
   "source": [
    "### How to find the overlap needed?\n",
    "The overlap is the number of elements influenced by padding * receptive field."
   ]
  },
  {
   "cell_type": "code",
   "execution_count": 64,
   "id": "a70786f8",
   "metadata": {},
   "outputs": [
    {
     "name": "stdout",
     "output_type": "stream",
     "text": [
      "Overlap 4\n"
     ]
    }
   ],
   "source": [
    "overlap = num_output_influenced * effective_stride # this is wrong\n",
    "print(\"Overlap\", overlap)"
   ]
  },
  {
   "cell_type": "markdown",
   "id": "c840b94c",
   "metadata": {},
   "source": [
    "### Split input and compute inputs "
   ]
  },
  {
   "cell_type": "code",
   "execution_count": 53,
   "id": "b0282fd3",
   "metadata": {},
   "outputs": [],
   "source": [
    "def modify_input(model, batch_input_shape):\n",
    "    model_config = model.get_config()\n",
    "    model_config[\"layers\"][0][\"config\"][\"batch_input_shape\"] = batch_input_shape\n",
    "    modified_model = tf.keras.Model.from_config(model_config)\n",
    "    modified_model.set_weights([x.value() for x in model.weights])\n",
    "    modified_model.summary()\n",
    "    return modified_model"
   ]
  },
  {
   "cell_type": "code",
   "execution_count": 54,
   "id": "c03f1170",
   "metadata": {},
   "outputs": [
    {
     "name": "stdout",
     "output_type": "stream",
     "text": [
      "Model: \"test_model\"\n",
      "_________________________________________________________________\n",
      "Layer (type)                 Output Shape              Param #   \n",
      "=================================================================\n",
      "input_5 (InputLayer)         [(None, 20, 1)]           0         \n",
      "_________________________________________________________________\n",
      "tf_op_layer_PadV2_8 (TensorF [(None, 20, 1)]           0         \n",
      "_________________________________________________________________\n",
      "conv1d_8 (Conv1D)            (None, 18, 1)             4         \n",
      "_________________________________________________________________\n",
      "tf_op_layer_PadV2_9 (TensorF [(None, 22, 1)]           0         \n",
      "_________________________________________________________________\n",
      "conv1d_9 (Conv1D)            (None, 10, 1)             4         \n",
      "=================================================================\n",
      "Total params: 8\n",
      "Trainable params: 8\n",
      "Non-trainable params: 0\n",
      "_________________________________________________________________\n",
      "Model: \"test_model\"\n",
      "_________________________________________________________________\n",
      "Layer (type)                 Output Shape              Param #   \n",
      "=================================================================\n",
      "input_5 (InputLayer)         [(None, 10, 1)]           0         \n",
      "_________________________________________________________________\n",
      "tf_op_layer_PadV2_8 (TensorF (None, 10, 1)             0         \n",
      "_________________________________________________________________\n",
      "conv1d_8 (Conv1D)            (None, 8, 1)              4         \n",
      "_________________________________________________________________\n",
      "tf_op_layer_PadV2_9 (TensorF (None, 12, 1)             0         \n",
      "_________________________________________________________________\n",
      "conv1d_9 (Conv1D)            (None, 5, 1)              4         \n",
      "=================================================================\n",
      "Total params: 8\n",
      "Trainable params: 8\n",
      "Non-trainable params: 0\n",
      "_________________________________________________________________\n"
     ]
    }
   ],
   "source": [
    "model.summary()\n",
    "batch_input_shape = (None, modified_shape, 1)\n",
    "modified_model = modify_input(model, batch_input_shape)"
   ]
  },
  {
   "cell_type": "code",
   "execution_count": 55,
   "id": "a6d8157f",
   "metadata": {},
   "outputs": [
    {
     "data": {
      "text/plain": [
       "(1, 20, 1)"
      ]
     },
     "execution_count": 55,
     "metadata": {},
     "output_type": "execute_result"
    }
   ],
   "source": [
    "input_tensor.shape"
   ]
  },
  {
   "cell_type": "code",
   "execution_count": 56,
   "id": "8993194f",
   "metadata": {},
   "outputs": [
    {
     "data": {
      "text/plain": [
       "(array([-0.08486608, -0.08086114,  0.00321689,  0.00395104,  0.00220385,\n",
       "         0.00275447,  0.00191425,  0.00336804,  0.0033351 ,  0.00103537],\n",
       "       dtype=float32),\n",
       " (10,))"
      ]
     },
     "execution_count": 56,
     "metadata": {},
     "output_type": "execute_result"
    }
   ],
   "source": [
    "ref_output, ref_output.shape"
   ]
  },
  {
   "cell_type": "code",
   "execution_count": 63,
   "id": "c70ad745",
   "metadata": {},
   "outputs": [
    {
     "name": "stdout",
     "output_type": "stream",
     "text": [
      "0 0 (1, 10, 1) [-0.08486608 -0.08086114  0.00321689  0.00395104  0.00220385]\n",
      "5 6 (1, 10, 1) [0.00275447 0.00191425 0.00336804]\n",
      "8 12 (1, 8, 1) [0.0033351  0.00103537]\n",
      "[-0.08486608, -0.080861144, 0.0032168918, 0.0039510448, 0.002203849, 0.0027544708, 0.0019142547, 0.0033680415, 0.0033350994, 0.0010353675]\n",
      "[ True  True  True  True  True  True  True  True  True  True]\n"
     ]
    }
   ],
   "source": [
    "output = []\n",
    "output_dims = (input_dims + effective_padding - receptive_field) // effective_stride + 1\n",
    "for idx in range(0, output_dims):\n",
    "    if idx < len(output):\n",
    "        continue\n",
    "    \n",
    "    start_idx = max(0, (idx-num_output_influenced) * effective_stride)\n",
    "    \n",
    "    sliced_input = input_tensor[:, start_idx:start_idx + modified_shape, :]\n",
    "    partial_output = np.array(modified_model(sliced_input)).flatten()\n",
    "    partial_output = partial_output\n",
    "    if idx != 0:\n",
    "        partial_output = partial_output[num_output_influenced:]\n",
    "    output.extend(partial_output)\n",
    "    print(idx, start_idx, sliced_input.shape, partial_output)\n",
    "print(output)\n",
    "print(np.isclose(ref_output, output))"
   ]
  },
  {
   "cell_type": "code",
   "execution_count": null,
   "id": "c0ede952",
   "metadata": {},
   "outputs": [],
   "source": []
  },
  {
   "cell_type": "code",
   "execution_count": null,
   "id": "7a035a07",
   "metadata": {},
   "outputs": [],
   "source": []
  }
 ],
 "metadata": {
  "kernelspec": {
   "display_name": "Python 3 (ipykernel)",
   "language": "python",
   "name": "python3"
  },
  "language_info": {
   "codemirror_mode": {
    "name": "ipython",
    "version": 3
   },
   "file_extension": ".py",
   "mimetype": "text/x-python",
   "name": "python",
   "nbconvert_exporter": "python",
   "pygments_lexer": "ipython3",
   "version": "3.7.13"
  }
 },
 "nbformat": 4,
 "nbformat_minor": 5
}
