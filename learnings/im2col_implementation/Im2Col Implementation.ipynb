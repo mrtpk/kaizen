{
 "cells": [
  {
   "cell_type": "markdown",
   "metadata": {},
   "source": [
    "# Im2Col Implementation"
   ]
  },
  {
   "cell_type": "code",
   "execution_count": 25,
   "metadata": {},
   "outputs": [],
   "source": [
    "import math\n",
    "import numpy as np"
   ]
  },
  {
   "cell_type": "code",
   "execution_count": 26,
   "metadata": {},
   "outputs": [],
   "source": [
    "class Array:\n",
    "    def __init__(self, N, C, H, W):\n",
    "        self.arr = np.arange(N * C * H * W) # 4D array is strored as 1D array in NCHW format\n",
    "        self.H = H\n",
    "        self.W = W\n",
    "        self.N = N\n",
    "        self.C = C\n",
    "    \n",
    "    def get_idx(self, n, c, h, w):\n",
    "        '''\n",
    "        Map 4D index to 1D\n",
    "        '''\n",
    "        idx = n * (self.W * self.H * self.C) + c * (self.W * self.H) + h * (self.W) + w\n",
    "        return idx\n",
    "    \n",
    "    def print_array(self):\n",
    "        '''\n",
    "        Print array as matrices\n",
    "        '''\n",
    "        print(self.arr)\n",
    "        _str = \"\"\n",
    "        for n in range(0, self.N):\n",
    "            print(\"Image {}\".format(n))\n",
    "            for c in range(0, self.C):\n",
    "                print(\"Channel {}\".format(c))\n",
    "                _str = \"\"\n",
    "                for h in range(0, self.H):\n",
    "                    for w in range(0, self.W):\n",
    "                        idx = self.get_idx(n, c, h, w)\n",
    "                        _str = _str + \"{} \".format(self.arr[idx])\n",
    "                    _str = _str + \"\\n\"\n",
    "                print(_str)\n",
    "    \n",
    "    def get_im2col_idx(self, kernel_h, kernel_w, stride_w=1, stride_h=1):\n",
    "        '''\n",
    "        im2col implementation. The output will be flattened im2col matrix\n",
    "        of corresponding input index\n",
    "        '''\n",
    "        output_h = math.floor((self.H - kernel_h) / stride_h) + 1\n",
    "        output_w = math.floor((self.W - kernel_w) / stride_w) + 1\n",
    "        # print(\"Output shape {} X {}\".format(output_h, output_w))\n",
    "        im2col_res = [None] * (kernel_h * kernel_w * self.C * output_h * output_w * self.N)\n",
    "        col_idx = 0\n",
    "        for n in range(0, self.N):\n",
    "            # print(\"Image {}\".format(n))\n",
    "            for h in range(0, output_h):\n",
    "                for w in range(0, output_w):\n",
    "                    _str = \"\"\n",
    "                    for c in range(0, self.C):\n",
    "                        for i in range(0, kernel_h):\n",
    "                            for j in range(0, kernel_w):\n",
    "                                idx = (n * (self.C * self.H * self.W)) + (c * (self.H * self.W)) + ((i+h*stride_h) * self.W) + (j + w*stride_w)\n",
    "                                im2col_res[col_idx] = idx\n",
    "                                col_idx += 1\n",
    "                                _str = _str + \"{} \".format(idx) #.format(self.arr[idx])\n",
    "                    _str = _str + \"\\n\"\n",
    "                    # print(_str)\n",
    "        return im2col_res"
   ]
  },
  {
   "cell_type": "code",
   "execution_count": 27,
   "metadata": {},
   "outputs": [],
   "source": [
    "class Im2Col:\n",
    "    def __init__(self, N, C, H, W, kernel_h, kernel_w, stride_h, stride_w, arr, is_debug=False):\n",
    "        self.is_debug = is_debug\n",
    "        self.arr = arr # 1D array input\n",
    "        self.N = N # number of images in the batch\n",
    "        self.C = C # number of channels in an image\n",
    "        self.H = H # height of the image\n",
    "        self.W = W # width of the image\n",
    "        self.kernel_h = kernel_h\n",
    "        self.kernel_w = kernel_w\n",
    "        self.stride_h = stride_h\n",
    "        self.stride_w = stride_w\n",
    "        \n",
    "        self.output_h = self.calculate_output_dim(input_dim=H, kernel_dim=kernel_h, stride=stride_h) \n",
    "        self.output_w = self.calculate_output_dim(input_dim=W, kernel_dim=kernel_w, stride=stride_w)\n",
    "        \n",
    "        self.num_output_elements = self.output_h * self.output_w\n",
    "        self.num_kernel_elements = kernel_h * kernel_w * C\n",
    "        self.im2col_sz = self.N * self.num_output_elements * self.num_kernel_elements\n",
    "        \n",
    "        if self.is_debug:\n",
    "            print(\"output shape is {}X{}\".format(self.output_h, self.output_w))\n",
    "            print(\"im2col shape {}X{}\".format(self.num_output_elements, self.num_kernel_elements))\n",
    "    \n",
    "    def calculate_output_dim(self, input_dim, kernel_dim, stride):\n",
    "        return math.floor((input_dim - kernel_dim) / stride) + 1\n",
    "    \n",
    "    def get_image_id(self, idx):\n",
    "        return math.floor(idx / (self.num_output_elements * self.num_kernel_elements))\n",
    "    \n",
    "    def get_image_idx(self, idx):\n",
    "        return idx % (self.num_output_elements * self.num_kernel_elements)\n",
    "    \n",
    "    def get_channel_id(self, idx):\n",
    "        return math.floor(idx / (self.kernel_h * kernel_w)) % self.C\n",
    "    \n",
    "    def get_kernel_id(self, idx):\n",
    "        return math.floor(idx / self.num_kernel_elements)\n",
    "    \n",
    "    def get_kernel_idx(self, idx):\n",
    "        return idx % (self.kernel_h * self.kernel_w)\n",
    "    \n",
    "    def get_h(self, kernel_id, kernel_idx):\n",
    "        relative_h = math.floor(kernel_idx / self.kernel_w)\n",
    "        kernel_start_idx = math.floor(kernel_id / self.output_w)\n",
    "        h = self.stride_h * kernel_start_idx + relative_h\n",
    "        return h\n",
    "    \n",
    "    def get_w(self, kernel_id, kernel_idx):\n",
    "        relative_w = kernel_idx % self.kernel_w\n",
    "        kernel_start_idx = kernel_id % self.output_w\n",
    "        w = self.stride_w * kernel_start_idx + relative_w\n",
    "        return w\n",
    "    \n",
    "    def get_im2col_idx(self):\n",
    "        im2col_idx = np.ones((self.im2col_sz), np.int)\n",
    "        \n",
    "        for idx in range(self.im2col_sz):    \n",
    "            image_id = self.get_image_id(idx)\n",
    "            image_idx = self.get_image_idx(idx)\n",
    "            \n",
    "            channel_id = self.get_channel_id(image_idx)\n",
    "            \n",
    "            kernel_id = self.get_kernel_id(image_idx)\n",
    "            kernel_idx = self.get_kernel_idx(image_idx)\n",
    "            \n",
    "            h = self.get_h(kernel_id, kernel_idx)\n",
    "            w = self.get_w(kernel_id, kernel_idx)\n",
    "            \n",
    "            im_idx = image_id * (self.C * self.H * self.W) + channel_id * (self.H * self.W) + h * (self.W) + w\n",
    "            im2col_idx[idx] = im_idx\n",
    "            \n",
    "            if self.is_debug:\n",
    "                print(\"idx: {}, image id:{}, image idx: {}, channel id: {}, kernel id:{}, kernel_idx:{}, h:{}, w:{}, im_idx:{}\"\\\n",
    "                      .format(idx, image_id, image_idx, channel_id, kernel_id, kernel_idx, h, w, im_idx))\n",
    "        \n",
    "        return im2col_idx, (self.N, self.num_output_elements, self.num_kernel_elements)\n"
   ]
  },
  {
   "cell_type": "code",
   "execution_count": 28,
   "metadata": {},
   "outputs": [],
   "source": [
    "N = 1\n",
    "C = 2\n",
    "H = 4\n",
    "W = 5\n",
    "kernel_h = 3\n",
    "kernel_w = 3\n",
    "stride_h = 2\n",
    "stride_w = 2"
   ]
  },
  {
   "cell_type": "code",
   "execution_count": 29,
   "metadata": {},
   "outputs": [
    {
     "name": "stdout",
     "output_type": "stream",
     "text": [
      "[ 0  1  2  3  4  5  6  7  8  9 10 11 12 13 14 15 16 17 18 19 20 21 22 23\n",
      " 24 25 26 27 28 29 30 31 32 33 34 35 36 37 38 39]\n",
      "Image 0\n",
      "Channel 0\n",
      "0 1 2 3 4 \n",
      "5 6 7 8 9 \n",
      "10 11 12 13 14 \n",
      "15 16 17 18 19 \n",
      "\n",
      "Channel 1\n",
      "20 21 22 23 24 \n",
      "25 26 27 28 29 \n",
      "30 31 32 33 34 \n",
      "35 36 37 38 39 \n",
      "\n"
     ]
    }
   ],
   "source": [
    "arr = Array(N=N, C=C, H=H, W=W)\n",
    "arr.print_array()"
   ]
  },
  {
   "cell_type": "code",
   "execution_count": 30,
   "metadata": {},
   "outputs": [
    {
     "name": "stdout",
     "output_type": "stream",
     "text": [
      "[ 0  1  2  5  6  7 10 11 12 20 21 22 25 26 27 30 31 32  2  3  4  7  8  9\n",
      " 12 13 14 22 23 24 27 28 29 32 33 34]\n"
     ]
    }
   ],
   "source": [
    "ref_mapping = arr.get_im2col_idx(kernel_h=kernel_h, kernel_w=kernel_w, stride_w=stride_w, stride_h=stride_h)\n",
    "ref_mapping = np.array(ref_mapping)\n",
    "print(ref_mapping)"
   ]
  },
  {
   "cell_type": "code",
   "execution_count": 31,
   "metadata": {},
   "outputs": [
    {
     "name": "stdout",
     "output_type": "stream",
     "text": [
      "[ 0  1  2  5  6  7 10 11 12 20 21 22 25 26 27 30 31 32  2  3  4  7  8  9\n",
      " 12 13 14 22 23 24 27 28 29 32 33 34]\n"
     ]
    }
   ],
   "source": [
    "im2col = Im2Col(N=N, C=C, H=H, W=W, kernel_h=kernel_h,\\\n",
    "                kernel_w=kernel_w, stride_h=stride_h, stride_w=stride_w, arr= arr.arr, is_debug= False)\n",
    "im2col_idx, im2col_shape = im2col.get_im2col_idx()\n",
    "im2col_idx = np.array(im2col_idx)\n",
    "print(im2col_idx)"
   ]
  },
  {
   "cell_type": "code",
   "execution_count": 32,
   "metadata": {},
   "outputs": [
    {
     "name": "stdout",
     "output_type": "stream",
     "text": [
      "Is pass? True\n"
     ]
    }
   ],
   "source": [
    "print(\"Is pass?\", np.allclose(ref_mapping, im2col_idx))"
   ]
  },
  {
   "cell_type": "code",
   "execution_count": 33,
   "metadata": {},
   "outputs": [
    {
     "name": "stdout",
     "output_type": "stream",
     "text": [
      "[[[ 0  1  2  5  6  7 10 11 12 20 21 22 25 26 27 30 31 32]\n",
      "  [ 2  3  4  7  8  9 12 13 14 22 23 24 27 28 29 32 33 34]]]\n"
     ]
    }
   ],
   "source": [
    "print(ref_mapping.reshape(im2col_shape))"
   ]
  },
  {
   "cell_type": "code",
   "execution_count": 34,
   "metadata": {},
   "outputs": [
    {
     "name": "stdout",
     "output_type": "stream",
     "text": [
      "[[[ 0  1  2  5  6  7 10 11 12 20 21 22 25 26 27 30 31 32]\n",
      "  [ 2  3  4  7  8  9 12 13 14 22 23 24 27 28 29 32 33 34]]]\n"
     ]
    }
   ],
   "source": [
    "print(im2col_idx.reshape(im2col_shape))"
   ]
  },
  {
   "cell_type": "code",
   "execution_count": null,
   "metadata": {},
   "outputs": [],
   "source": []
  }
 ],
 "metadata": {
  "kernelspec": {
   "display_name": "Python 3",
   "language": "python",
   "name": "python3"
  },
  "language_info": {
   "codemirror_mode": {
    "name": "ipython",
    "version": 3
   },
   "file_extension": ".py",
   "mimetype": "text/x-python",
   "name": "python",
   "nbconvert_exporter": "python",
   "pygments_lexer": "ipython3",
   "version": "3.8.5"
  }
 },
 "nbformat": 4,
 "nbformat_minor": 4
}
