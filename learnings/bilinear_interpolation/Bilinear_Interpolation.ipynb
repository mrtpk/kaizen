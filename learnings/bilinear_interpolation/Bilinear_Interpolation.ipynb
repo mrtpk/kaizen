{
 "cells": [
  {
   "cell_type": "code",
   "execution_count": 1,
   "metadata": {},
   "outputs": [],
   "source": [
    "import numpy as np\n",
    "import math\n",
    "import cv2\n",
    "import tensorflow as tf"
   ]
  },
  {
   "cell_type": "code",
   "execution_count": 116,
   "metadata": {},
   "outputs": [],
   "source": [
    "def bilinear_interpolation_ref(img, new_row_sz, new_col_sz):\n",
    "    old_row_sz, old_col_sz = img.shape[:2]\n",
    "    new_img = np.zeros(shape=(new_row_sz, new_col_sz), dtype=np.uint8)\n",
    "    \n",
    "    row_scale = (old_row_sz-1) / (new_row_sz-1)\n",
    "    col_scale = (old_col_sz-1) / (new_col_sz-1)\n",
    "#     print(\"scales\", row_scale, col_scale)\n",
    "    \n",
    "    row_mapping = []\n",
    "    col_mapping = []\n",
    "    \n",
    "    row_nearest_idxs = []\n",
    "    col_nearest_idxs = []\n",
    "    \n",
    "    row_deltas = []\n",
    "    col_deltas = []\n",
    "    new_col_idx = 1\n",
    "    \n",
    "    tmp_points, tmp_new_pixels = [], []\n",
    "    for new_row_idx in range(0, new_row_sz):\n",
    "        for new_col_idx in range(0, new_col_sz):\n",
    "            row_mapped_pos = row_scale * new_row_idx \n",
    "            row_mapping.append(row_mapped_pos)\n",
    "            col_mapped_pos = col_scale * new_col_idx\n",
    "            col_mapping.append(col_mapped_pos)\n",
    "            \n",
    "            row_nearest_idx = int(np.floor(row_mapped_pos))\n",
    "#             row_nearest_idx = min(row_nearest_idx, old_row_sz - 2)\n",
    "#             row_nearest_idx = max(row_nearest_idx, 1)\n",
    "            \n",
    "            row_nearest_idxs.append(row_nearest_idx)\n",
    "            col_nearest_idx = int(np.floor(col_mapped_pos))\n",
    "#             col_nearest_idx = min(col_nearest_idx, old_col_sz - 2)\n",
    "#             col_nearest_idx = max(col_nearest_idx, 1)\n",
    "            col_nearest_idxs.append(col_nearest_idx)\n",
    "            \n",
    "#             print(\"mapped postions\", row_mapped_pos, col_mapped_pos, \"-->\", row_nearest_idx, col_nearest_idx)\n",
    "\n",
    "            row_delta = row_mapped_pos - row_nearest_idx\n",
    "            row_deltas.append(row_delta)\n",
    "            col_delta = col_mapped_pos - col_nearest_idx\n",
    "            col_deltas.append(col_delta)\n",
    "#             print(new_row_idx, new_col_idx, \"-->\", row_nearest_idx, col_nearest_idx, \"with deltas:\", row_delta, col_delta)\n",
    "            \n",
    "            right_top_pixel = img[row_nearest_idx, col_nearest_idx] \n",
    "            \n",
    "#             if row_nearest_idx == old_row_sz - 1:\n",
    "#                 right_bottom_pixel = 0\n",
    "#                 left_bottom_pixel = 0\n",
    "#             elif col_nearest_idx == old_col_sz - 1:\n",
    "#                 left_top_pixel = 0\n",
    "#                 left_bottom_pixel = 0\n",
    "#             else:\n",
    "#                 right_bottom_pixel = img[row_nearest_idx+1, col_nearest_idx] \n",
    "#                 left_bottom_pixel = img[row_nearest_idx+1, col_nearest_idx+1]\n",
    "#                 left_top_pixel = img[row_nearest_idx, col_nearest_idx+1] \n",
    "#                 left_bottom_pixel = img[row_nearest_idx+1, col_nearest_idx+1]\n",
    "            \n",
    "            y_idx = min(row_nearest_idx+1, old_row_sz-1)\n",
    "            x_idx = min(col_nearest_idx+1, old_col_sz-1)\n",
    "            right_bottom_pixel = img[y_idx, col_nearest_idx] \n",
    "            left_top_pixel = img[row_nearest_idx, x_idx] \n",
    "            left_bottom_pixel = img[y_idx, x_idx]\n",
    "            \n",
    "            tmp_points.append([row_nearest_idx, col_nearest_idx, y_idx, x_idx])\n",
    "            \n",
    "            new_pixel = right_top_pixel * (1 - row_delta)  * (1 - col_delta) + \\\n",
    "                        right_bottom_pixel  * (row_delta)  * (1 - col_delta) + \\\n",
    "                        left_top_pixel * (1 - row_delta)  * (col_delta) + \\\n",
    "                        left_bottom_pixel * (row_delta)  * (col_delta) \n",
    "            \n",
    "            tmp_new_pixels.append(new_pixel)\n",
    "            \n",
    "            new_img[new_row_idx, new_col_idx] = new_pixel\n",
    "    return new_img\n",
    "    "
   ]
  },
  {
   "cell_type": "code",
   "execution_count": null,
   "metadata": {},
   "outputs": [],
   "source": [
    "# // CalculateResizeScale determines the float scaling factor.\n",
    "# inline float CalculateResizeScale(int64_t in_size, int64_t out_size,\n",
    "#                                   bool align_corners) {\n",
    "#   return (align_corners && out_size > 1)\n",
    "#              ? (in_size - 1) / static_cast<float>(out_size - 1)\n",
    "#              : in_size / static_cast<float>(out_size);\n",
    "# }\n",
    "\n",
    "# return (static_cast<float>(x) + 0.5f) * scale - 0.5f;"
   ]
  },
  {
   "cell_type": "code",
   "execution_count": 308,
   "metadata": {},
   "outputs": [],
   "source": [
    "def do_bilinear_resize(img, new_size):\n",
    "    '''\n",
    "    Takes in a image with three channels and\n",
    "    resizes to @param: new_size\n",
    "    '''\n",
    "    num_row_img, num_col_img, num_channels = img.shape\n",
    "    resized_img = np.zeros((new_size[0], new_size[1], img.shape[-1]), dtype=np.uint8)\n",
    "    num_row_resized_img, num_col_resized_img = resized_img.shape[:2]\n",
    "    \n",
    "    def get_nearest_idxs_with_deltas(old_sz, new_sz):\n",
    "        # if (op_params.align_corners && output_height > 1) {\n",
    "        # height_scale = static_cast<float>(input_height - 1) / (output_height - 1);}\n",
    "#         scale = (old_sz -1 ) / (new_sz-1) # for align corner\n",
    "        scale = (old_sz ) / (new_sz) # for half pixel centers\n",
    "        print(scale)\n",
    "        \n",
    "        nearest_idxs, deltas = [], []\n",
    "        for new_idx in range(0, new_sz):\n",
    "            # mapped_position = scale * new_idx # align is True?\n",
    "#             mapped_position = (new_idx + 0.5) * (scale) - 0.5 # half_pixel_centers: *scaled_value = (value + 0.5f) * scale - 0.5f;\n",
    "            mapped_position = max((new_idx + 0.5) * (scale) - 0.5, 0) # half_pixel_centers: *scaled_value = (value + 0.5f) * scale - 0.5f;\n",
    "            mapped_position = min(mapped_position, old_sz - 1)\n",
    "            nearest_idx = math.floor(mapped_position)\n",
    "            delta = mapped_position - nearest_idx\n",
    "            nearest_idxs.append(nearest_idx)\n",
    "            deltas.append(delta)\n",
    "            \n",
    "#             print(\"idx mapped: \", new_idx, \"-->\", nearest_idx, \"delta:\", delta)\n",
    "        return nearest_idxs, deltas\n",
    "    \n",
    "#     print(\"rows\")\n",
    "    row_nearest_idxs, row_deltas = get_nearest_idxs_with_deltas(old_sz=num_row_img, new_sz=num_row_resized_img)\n",
    "#     print(\"cols\")\n",
    "    col_nearest_idxs, col_deltas = get_nearest_idxs_with_deltas(old_sz=num_col_img, new_sz=num_col_resized_img)\n",
    "    \n",
    "    tmp_row_nearest_idxs, tmp_col_nearest_idxs = [], []\n",
    "    tmp_row_deltas, tmp_col_deltas, tmp_points, new_pixels = [], [], [], []\n",
    "    for channel_idx in range(0, num_channels):\n",
    "        for row_idx in range(0, num_row_resized_img):\n",
    "            for col_idx in range(0, num_col_resized_img):\n",
    "                row_nearest_idx = row_nearest_idxs[row_idx]\n",
    "                col_nearest_idx = col_nearest_idxs[col_idx]\n",
    "                \n",
    "                tmp_row_nearest_idxs.append(row_nearest_idx)\n",
    "                tmp_col_nearest_idxs.append(col_nearest_idx)\n",
    "                \n",
    "                row_delta = row_deltas[row_idx]\n",
    "                col_delta = col_deltas[col_idx]\n",
    "                \n",
    "                tmp_row_deltas.append(row_delta)\n",
    "                tmp_col_deltas.append(col_delta)\n",
    "                \n",
    "                row_idx_next = row_nearest_idx + 1\n",
    "                row_idx_next = min(row_idx_next, num_row_img - 1)\n",
    "                col_idx_next = col_nearest_idx + 1\n",
    "                col_idx_next = min(col_idx_next, num_col_img - 1)\n",
    "\n",
    "                right_top_pixel = img[row_nearest_idx, col_nearest_idx, channel_idx].astype(np.float32) \n",
    "                right_bottom_pixel = img[row_idx_next, col_nearest_idx, channel_idx].astype(np.float32) \n",
    "                left_top_pixel = img[row_nearest_idx, col_idx_next, channel_idx].astype(np.float32) \n",
    "                left_bottom_pixel = img[row_idx_next, col_idx_next, channel_idx].astype(np.float32)\n",
    "                \n",
    "                tmp_points.append([row_nearest_idx, col_nearest_idx, row_idx_next,  col_idx_next])\n",
    "                \n",
    "                new_pixel = (right_top_pixel * (1 - row_delta)  * (1 - col_delta)).astype(np.float32) + \\\n",
    "                            (right_bottom_pixel  * (row_delta)  * (1 - col_delta)).astype(np.float32) + \\\n",
    "                            (left_top_pixel * (1 - row_delta)  * (col_delta)).astype(np.float32) + \\\n",
    "                            (left_bottom_pixel * (row_delta)  * (col_delta)).astype(np.float32)\n",
    "\n",
    "                new_pixels.append(new_pixel)\n",
    "                resized_img[row_idx, col_idx, channel_idx] = new_pixel\n",
    "    return resized_img"
   ]
  },
  {
   "cell_type": "code",
   "execution_count": 309,
   "metadata": {},
   "outputs": [],
   "source": [
    "img = cv2.imread(\"./lena.png\")\n",
    "img = img[:6, :6, 0]\n",
    "new_h, new_w = 14, 14\n",
    "ref_img = cv2.resize(img, (new_w, new_h), interpolation = cv2.INTER_LINEAR)"
   ]
  },
  {
   "cell_type": "code",
   "execution_count": 310,
   "metadata": {},
   "outputs": [
    {
     "name": "stdout",
     "output_type": "stream",
     "text": [
      "0.42857142857142855\n",
      "0.42857142857142855\n"
     ]
    }
   ],
   "source": [
    "m1_img = bilinear_interpolation_ref(img=img, new_row_sz=new_h, new_col_sz=new_w)# .astype(np.uint8)\n",
    "m2_img = do_bilinear_resize(img=img[..., np.newaxis], new_size=(new_h, new_w))\n",
    "# mask = m1_img.reshape(-1) != m2_img.reshape(-1)\n",
    "# m1_img.reshape(-1)[mask], m2_img.reshape(-1)[mask]\n",
    "\n",
    "\n",
    "# upsampling is more consistent with opencv"
   ]
  },
  {
   "cell_type": "code",
   "execution_count": 311,
   "metadata": {},
   "outputs": [
    {
     "data": {
      "text/plain": [
       "(1, 6, 6)"
      ]
     },
     "execution_count": 311,
     "metadata": {},
     "output_type": "execute_result"
    }
   ],
   "source": [
    "img[np.newaxis, ...].shape"
   ]
  },
  {
   "cell_type": "code",
   "execution_count": 312,
   "metadata": {},
   "outputs": [
    {
     "data": {
      "text/plain": [
       "array([[125, 125, 133, 128, 120, 116],\n",
       "       [125, 125, 133, 128, 120, 116],\n",
       "       [125, 125, 133, 128, 120, 116],\n",
       "       [125, 125, 133, 128, 120, 116],\n",
       "       [125, 125, 133, 128, 120, 116],\n",
       "       [123, 123, 113, 111, 120, 115]], dtype=uint8)"
      ]
     },
     "execution_count": 312,
     "metadata": {},
     "output_type": "execute_result"
    }
   ],
   "source": [
    "img"
   ]
  },
  {
   "cell_type": "code",
   "execution_count": 313,
   "metadata": {},
   "outputs": [
    {
     "data": {
      "text/plain": [
       "array([[125, 125, 125, 125, 128, 132, 131, 129, 127, 123, 120, 118, 117,\n",
       "        116],\n",
       "       [125, 125, 125, 125, 128, 132, 131, 129, 127, 123, 120, 118, 116,\n",
       "        116],\n",
       "       [125, 125, 125, 125, 128, 132, 131, 129, 127, 123, 120, 118, 116,\n",
       "        116],\n",
       "       [125, 125, 125, 125, 128, 132, 132, 129, 127, 123, 120, 118, 117,\n",
       "        116],\n",
       "       [125, 125, 125, 125, 128, 132, 131, 129, 127, 123, 120, 118, 116,\n",
       "        116],\n",
       "       [125, 125, 125, 125, 128, 132, 131, 129, 127, 123, 120, 118, 116,\n",
       "        116],\n",
       "       [125, 125, 125, 125, 128, 132, 131, 129, 127, 123, 120, 118, 117,\n",
       "        116],\n",
       "       [125, 125, 125, 125, 128, 132, 131, 129, 127, 123, 120, 118, 117,\n",
       "        116],\n",
       "       [125, 125, 125, 125, 128, 132, 131, 129, 127, 123, 120, 118, 116,\n",
       "        116],\n",
       "       [125, 125, 125, 125, 128, 132, 131, 129, 127, 123, 120, 118, 116,\n",
       "        116],\n",
       "       [125, 125, 125, 125, 128, 132, 132, 129, 127, 123, 120, 118, 117,\n",
       "        116],\n",
       "       [124, 124, 124, 124, 124, 124, 123, 122, 120, 120, 120, 118, 116,\n",
       "        116],\n",
       "       [123, 123, 123, 123, 120, 117, 115, 114, 114, 117, 120, 118, 116,\n",
       "        115],\n",
       "       [123, 123, 123, 123, 119, 114, 112, 111, 112, 116, 120, 118, 116,\n",
       "        115]], dtype=uint8)"
      ]
     },
     "execution_count": 313,
     "metadata": {},
     "output_type": "execute_result"
    }
   ],
   "source": [
    "ref_img"
   ]
  },
  {
   "cell_type": "code",
   "execution_count": 314,
   "metadata": {},
   "outputs": [
    {
     "data": {
      "text/plain": [
       "array([[125, 125, 125, 125, 128, 131, 131, 129, 126, 123, 120, 118, 116,\n",
       "        116],\n",
       "       [125, 124, 124, 125, 128, 131, 131, 129, 126, 123, 120, 118, 116,\n",
       "        116],\n",
       "       [125, 124, 125, 125, 128, 131, 131, 129, 126, 123, 120, 118, 116,\n",
       "        116],\n",
       "       [125, 125, 125, 125, 128, 131, 131, 129, 126, 123, 120, 118, 116,\n",
       "        116],\n",
       "       [125, 124, 125, 125, 128, 131, 131, 129, 126, 123, 120, 118, 116,\n",
       "        116],\n",
       "       [125, 124, 125, 125, 128, 131, 131, 129, 126, 123, 120, 118, 116,\n",
       "        116],\n",
       "       [125, 125, 125, 125, 128, 131, 131, 129, 126, 123, 120, 118, 116,\n",
       "        116],\n",
       "       [125, 125, 125, 125, 128, 131, 131, 129, 126, 123, 120, 118, 116,\n",
       "        116],\n",
       "       [125, 124, 124, 125, 128, 131, 131, 129, 126, 123, 120, 118, 116,\n",
       "        116],\n",
       "       [125, 124, 125, 125, 128, 131, 131, 129, 126, 123, 120, 118, 116,\n",
       "        116],\n",
       "       [125, 125, 125, 125, 128, 131, 131, 129, 126, 123, 120, 118, 116,\n",
       "        116],\n",
       "       [124, 124, 124, 124, 124, 124, 123, 121, 120, 120, 120, 118, 116,\n",
       "        115],\n",
       "       [123, 123, 123, 123, 120, 116, 115, 114, 114, 117, 120, 117, 115,\n",
       "        115],\n",
       "       [123, 123, 123, 123, 118, 114, 112, 111, 112, 116, 120, 117, 115,\n",
       "        115]], dtype=uint8)"
      ]
     },
     "execution_count": 314,
     "metadata": {},
     "output_type": "execute_result"
    }
   ],
   "source": [
    "m2_img.reshape(new_h, new_w)"
   ]
  },
  {
   "cell_type": "code",
   "execution_count": null,
   "metadata": {},
   "outputs": [],
   "source": []
  },
  {
   "cell_type": "code",
   "execution_count": 315,
   "metadata": {},
   "outputs": [],
   "source": [
    "from tensorflow.python.ops.numpy_ops import np_config\n",
    "np_config.enable_numpy_behavior()"
   ]
  },
  {
   "cell_type": "code",
   "execution_count": 316,
   "metadata": {},
   "outputs": [
    {
     "data": {
      "text/plain": [
       "array([[125, 125, 125, 125, 128, 131, 131, 129, 126, 123, 120, 118, 116,\n",
       "        116],\n",
       "       [125, 125, 125, 125, 128, 131, 131, 129, 126, 123, 120, 118, 116,\n",
       "        116],\n",
       "       [125, 125, 125, 125, 128, 131, 131, 129, 126, 123, 120, 118, 116,\n",
       "        116],\n",
       "       [125, 125, 125, 125, 128, 131, 131, 129, 126, 123, 120, 118, 116,\n",
       "        116],\n",
       "       [125, 125, 125, 125, 128, 131, 131, 129, 126, 123, 120, 118, 116,\n",
       "        116],\n",
       "       [125, 125, 125, 125, 128, 131, 131, 129, 126, 123, 120, 118, 116,\n",
       "        116],\n",
       "       [125, 125, 125, 125, 128, 131, 131, 129, 126, 123, 120, 118, 116,\n",
       "        116],\n",
       "       [125, 125, 125, 125, 128, 131, 131, 129, 126, 123, 120, 118, 116,\n",
       "        116],\n",
       "       [125, 125, 125, 125, 128, 131, 131, 129, 126, 123, 120, 118, 116,\n",
       "        116],\n",
       "       [125, 125, 125, 125, 128, 131, 131, 129, 126, 123, 120, 118, 116,\n",
       "        116],\n",
       "       [125, 125, 125, 125, 128, 131, 131, 129, 126, 123, 120, 118, 116,\n",
       "        116],\n",
       "       [124, 124, 124, 124, 124, 124, 123, 121, 120, 120, 120, 118, 116,\n",
       "        115],\n",
       "       [123, 123, 123, 123, 120, 116, 115, 114, 114, 117, 120, 117, 115,\n",
       "        115],\n",
       "       [123, 123, 123, 123, 118, 114, 112, 111, 112, 116, 120, 117, 115,\n",
       "        115]], dtype=uint8)"
      ]
     },
     "execution_count": 316,
     "metadata": {},
     "output_type": "execute_result"
    }
   ],
   "source": [
    "t = tf.constant(img[...,np.newaxis])   # tensorflow needs a batch axis and a channel axis\n",
    "tf_ref = tf.image.resize(\n",
    "    t, size=(new_h, new_w),  preserve_aspect_ratio=False, \n",
    "    antialias=False, name=None\n",
    ").reshape(new_h, new_w).astype(np.uint8).numpy()\n",
    "tf_ref"
   ]
  },
  {
   "cell_type": "code",
   "execution_count": 317,
   "metadata": {},
   "outputs": [
    {
     "data": {
      "text/plain": [
       "array([[125, 125, 125, 125, 128, 132, 131, 129, 127, 123, 120, 118, 117,\n",
       "        116],\n",
       "       [125, 125, 125, 125, 128, 132, 131, 129, 127, 123, 120, 118, 116,\n",
       "        116],\n",
       "       [125, 125, 125, 125, 128, 132, 131, 129, 127, 123, 120, 118, 116,\n",
       "        116],\n",
       "       [125, 125, 125, 125, 128, 132, 132, 129, 127, 123, 120, 118, 117,\n",
       "        116],\n",
       "       [125, 125, 125, 125, 128, 132, 131, 129, 127, 123, 120, 118, 116,\n",
       "        116],\n",
       "       [125, 125, 125, 125, 128, 132, 131, 129, 127, 123, 120, 118, 116,\n",
       "        116],\n",
       "       [125, 125, 125, 125, 128, 132, 131, 129, 127, 123, 120, 118, 117,\n",
       "        116],\n",
       "       [125, 125, 125, 125, 128, 132, 131, 129, 127, 123, 120, 118, 117,\n",
       "        116],\n",
       "       [125, 125, 125, 125, 128, 132, 131, 129, 127, 123, 120, 118, 116,\n",
       "        116],\n",
       "       [125, 125, 125, 125, 128, 132, 131, 129, 127, 123, 120, 118, 116,\n",
       "        116],\n",
       "       [125, 125, 125, 125, 128, 132, 132, 129, 127, 123, 120, 118, 117,\n",
       "        116],\n",
       "       [124, 124, 124, 124, 124, 124, 123, 122, 120, 120, 120, 118, 116,\n",
       "        116],\n",
       "       [123, 123, 123, 123, 120, 117, 115, 114, 114, 117, 120, 118, 116,\n",
       "        115],\n",
       "       [123, 123, 123, 123, 119, 114, 112, 111, 112, 116, 120, 118, 116,\n",
       "        115]], dtype=uint8)"
      ]
     },
     "execution_count": 317,
     "metadata": {},
     "output_type": "execute_result"
    }
   ],
   "source": [
    "ref_img"
   ]
  },
  {
   "cell_type": "code",
   "execution_count": 319,
   "metadata": {},
   "outputs": [],
   "source": [
    "mask = m2_img.reshape(new_h, new_w) == tf_ref"
   ]
  },
  {
   "cell_type": "code",
   "execution_count": 324,
   "metadata": {},
   "outputs": [
    {
     "data": {
      "text/plain": [
       "array([[ True,  True,  True,  True,  True,  True,  True,  True,  True,\n",
       "         True,  True,  True,  True,  True],\n",
       "       [ True, False, False,  True,  True,  True,  True,  True,  True,\n",
       "         True,  True,  True,  True,  True],\n",
       "       [ True, False,  True,  True,  True,  True,  True,  True,  True,\n",
       "         True,  True,  True,  True,  True],\n",
       "       [ True,  True,  True,  True,  True,  True,  True,  True,  True,\n",
       "         True,  True,  True,  True,  True],\n",
       "       [ True, False,  True,  True,  True,  True,  True,  True,  True,\n",
       "         True,  True,  True,  True,  True],\n",
       "       [ True, False,  True,  True,  True,  True,  True,  True,  True,\n",
       "         True,  True,  True,  True,  True],\n",
       "       [ True,  True,  True,  True,  True,  True,  True,  True,  True,\n",
       "         True,  True,  True,  True,  True],\n",
       "       [ True,  True,  True,  True,  True,  True,  True,  True,  True,\n",
       "         True,  True,  True,  True,  True],\n",
       "       [ True, False, False,  True,  True,  True,  True,  True,  True,\n",
       "         True,  True,  True,  True,  True],\n",
       "       [ True, False,  True,  True,  True,  True,  True,  True,  True,\n",
       "         True,  True,  True,  True,  True],\n",
       "       [ True,  True,  True,  True,  True,  True,  True,  True,  True,\n",
       "         True,  True,  True,  True,  True],\n",
       "       [ True,  True,  True,  True,  True,  True,  True,  True,  True,\n",
       "         True,  True,  True,  True,  True],\n",
       "       [ True,  True,  True,  True,  True,  True,  True,  True,  True,\n",
       "         True,  True,  True,  True,  True],\n",
       "       [ True,  True,  True,  True,  True,  True,  True,  True,  True,\n",
       "         True,  True,  True,  True,  True]])"
      ]
     },
     "execution_count": 324,
     "metadata": {},
     "output_type": "execute_result"
    }
   ],
   "source": [
    "mask"
   ]
  },
  {
   "cell_type": "code",
   "execution_count": 322,
   "metadata": {},
   "outputs": [
    {
     "data": {
      "text/plain": [
       "array([124, 124, 124, 124, 124, 124, 124, 124], dtype=uint8)"
      ]
     },
     "execution_count": 322,
     "metadata": {},
     "output_type": "execute_result"
    }
   ],
   "source": [
    "m2_img.reshape(new_h, new_w)[~mask]"
   ]
  },
  {
   "cell_type": "code",
   "execution_count": 323,
   "metadata": {},
   "outputs": [
    {
     "data": {
      "text/plain": [
       "array([125, 125, 125, 125, 125, 125, 125, 125], dtype=uint8)"
      ]
     },
     "execution_count": 323,
     "metadata": {},
     "output_type": "execute_result"
    }
   ],
   "source": [
    "tf_ref[~mask]"
   ]
  },
  {
   "cell_type": "code",
   "execution_count": null,
   "metadata": {},
   "outputs": [],
   "source": []
  },
  {
   "cell_type": "code",
   "execution_count": null,
   "metadata": {},
   "outputs": [],
   "source": [
    "%%timeit\n",
    "do_bilinear_resize(img, new_size=(12, 12));"
   ]
  },
  {
   "cell_type": "code",
   "execution_count": null,
   "metadata": {},
   "outputs": [],
   "source": [
    "%%timeit\n",
    "bilinear_interpolation_ref(img=img, new_row_sz=12, new_col_sz=12).astype(np.uint8)"
   ]
  },
  {
   "cell_type": "code",
   "execution_count": null,
   "metadata": {},
   "outputs": [],
   "source": []
  },
  {
   "cell_type": "markdown",
   "metadata": {},
   "source": [
    "## Bilinear interpolation as convolution"
   ]
  },
  {
   "cell_type": "code",
   "execution_count": null,
   "metadata": {},
   "outputs": [],
   "source": [
    "\n",
    "def get_upsampling_conv_properties(N, R):\n",
    "    '''\n",
    "    Returns parameters for upsampling convolution:\n",
    "        # input, N X N --> output, R X R\n",
    "        # 1. S := (N - 1) /  gcd(N-1, R-1)\n",
    "        # 2. k := (R - 1) /  gcd(N-1, R-1)\n",
    "        # 3. Convolution(kxk, stride=S, lhs_dilation=k, padding=k-1)\n",
    "    '''\n",
    "    def gcd(a,b):\n",
    "        if(b==0):\n",
    "            return a\n",
    "        else:\n",
    "            return gcd(b,a%b)\n",
    "    \n",
    "    _gcd_N_R = gcd(N, R)\n",
    "    S = (N - 1) // _gcd_N_R\n",
    "    K = (R - 1) // _gcd_N_R\n",
    "\n",
    "    kernel_sz = K * 2 - 1\n",
    "    padding = K-1\n",
    "    lhs_dillation = K\n",
    "    return K, kernel_sz, padding, lhs_dillation\n",
    "\n",
    "def insert_zeros_2d(a, N=1, zero_point=0):\n",
    "    '''\n",
    "    Expand input 2d array for specified dillation\n",
    "    '''\n",
    "    out = np.ones( (N+1)*np.array(a.shape)-N, dtype=a.dtype) * zero_point\n",
    "    out[::N+1,::N+1] = a\n",
    "    return out\n",
    "\n",
    "def get_bilinear_1D_kernel(n:int):\n",
    "    '''\n",
    "    Builds bilinear 1d kernel\n",
    "    '''\n",
    "    kernel_sz = n * 2 - 1\n",
    "    kernel = np.zeros(shape=(kernel_sz,))\n",
    "    for idx in range(0, n):\n",
    "        v = idx + 1.0\n",
    "        kernel[idx] = v\n",
    "        kernel[n * 2 - 2 - idx] = v\n",
    "    return kernel\n",
    "\n",
    "def get_bilinear_2D_kernel(n:int):\n",
    "    kernel_1d = get_bilinear_1D_kernel(n)\n",
    "    kernel_2d = np.zeros((kernel_1d.shape[0], kernel_1d.shape[0]), dtype=np.int)\n",
    "    kernel_2d[:,:] = kernel_1d\n",
    "    kernel_2d = kernel_2d * kernel_2d.T\n",
    "    return kernel_2d"
   ]
  },
  {
   "cell_type": "code",
   "execution_count": null,
   "metadata": {},
   "outputs": [],
   "source": [
    "get_bilinear_1D_kernel(n = 3)"
   ]
  },
  {
   "cell_type": "code",
   "execution_count": null,
   "metadata": {},
   "outputs": [],
   "source": [
    "arr = np.zeros((5,5))\n",
    "arr[:,:] = get_bilinear_1D_kernel(n = 3)"
   ]
  },
  {
   "cell_type": "code",
   "execution_count": null,
   "metadata": {},
   "outputs": [],
   "source": [
    "arr = np.array([0, 3, 6, 9, 12, 15, 18, 21, 24]).reshape(3,3)\n",
    "expanded = insert_zeros_2d(a=arr, N=2, zero_point=0)\n",
    "expanded = np.pad(expanded, pad_width=2)\n",
    "expanded"
   ]
  },
  {
   "cell_type": "code",
   "execution_count": null,
   "metadata": {},
   "outputs": [],
   "source": [
    "kernel = np.array([1,2,3,2,1,2,4,6,4,2,3,6,9,6,3,2,4,6,4,2,1,2,3,2,1]).reshape(5, 5)"
   ]
  },
  {
   "cell_type": "code",
   "execution_count": null,
   "metadata": {},
   "outputs": [],
   "source": [
    "do_bilinear_resize(img=arr[..., np.newaxis], new_size=(4,4)).reshape(4,4)"
   ]
  },
  {
   "cell_type": "code",
   "execution_count": null,
   "metadata": {},
   "outputs": [],
   "source": [
    "from numpy.lib.stride_tricks import as_strided\n",
    "\n",
    "def conv2d(a, b, s=1):\n",
    "    Hout = (a.shape[1] - b.shape[0]) // s + 1\n",
    "    Wout = (a.shape[2] - b.shape[1]) // s + 1\n",
    "    Stride = (a.strides[0], a.strides[1] * s, a.strides[2] * s, a.strides[1], a.strides[2], a.strides[3])\n",
    "\n",
    "    a = as_strided(a, (a.shape[0], Hout, Wout, b.shape[0], b.shape[1], a.shape[3]), Stride)\n",
    "\n",
    "    return np.tensordot(a, b, axes=3)\n",
    "\n",
    "# test\n",
    "conv2d(a=expanded.reshape(1,11,11,1), b=kernel.reshape(5,5,1), s=2) / 9"
   ]
  },
  {
   "cell_type": "code",
   "execution_count": null,
   "metadata": {},
   "outputs": [],
   "source": [
    "kernel_1d = get_bilinear_1D_kernel(n = 3); kernel_1d.reshape(1,1,5,1).T.shape"
   ]
  },
  {
   "cell_type": "code",
   "execution_count": null,
   "metadata": {},
   "outputs": [],
   "source": [
    "arr1 = conv2d(a=expanded.reshape(1,11,11,1), b=kernel_1d.reshape(1, 5, 1), s=2)\n",
    "arr2 = conv2d(a=arr1[..., np.newaxis], b=kernel_1d.reshape(1, 1, 5).T, s=2)"
   ]
  },
  {
   "cell_type": "code",
   "execution_count": null,
   "metadata": {},
   "outputs": [],
   "source": [
    "arr2"
   ]
  },
  {
   "cell_type": "code",
   "execution_count": null,
   "metadata": {},
   "outputs": [],
   "source": []
  },
  {
   "cell_type": "code",
   "execution_count": null,
   "metadata": {},
   "outputs": [],
   "source": []
  },
  {
   "cell_type": "code",
   "execution_count": null,
   "metadata": {},
   "outputs": [],
   "source": [
    "# TODO: Decompose and see"
   ]
  },
  {
   "cell_type": "markdown",
   "metadata": {},
   "source": [
    "+ OpenCV resize() result is wrong - https://stackoverflow.com/a/43701718/6561141\n",
    "+ [good explaination] Resize an image with bilinear interpolation without imresize https://stackoverflow.com/a/26143655/6561141\n",
    "+  Richard Alan Peters' II digital image processing slides on interpolation - https://ia802707.us.archive.org/23/items/Lectures_on_Image_Processing/EECE_4353_15_Resampling.pdf\n",
    "+ Understanding Bilinear Image Resizing https://chao-ji.github.io/jekyll/update/2018/07/19/BilinearResize.html\n",
    "+ bilinear interpolation as convolution - https://github.com/tensorflow/tensorflow/blob/cddf9415564b16c2bc234df68d3eb44fc8689dae/tensorflow/compiler/tf2xla/kernels/image_resize_ops.cc\n",
    "+ https://jricheimer.github.io/tensorflow/2019/02/11/resize-confusion/\n",
    "+ https://www.cs.toronto.edu/~guerzhoy/320/lec/upsampling.pdf\n",
    "+ tf resize vs opencv resize - https://github.com/tensorflow/tensorflow/issues/6720\n",
    "+ tf code resize bilinear - https://github.com/tensorflow/tensorflow/blob/master/tensorflow/lite/kernels/internal/reference/resize_bilinear.h\n",
    "+ tf code resize call - https://github.com/tensorflow/tensorflow/blob/b36436b087bd8e8701ef51718179037cccdfc26e/tensorflow/python/ops/image_ops_impl.py\n",
    "+ tf2xla bi linear implementation as conv - https://github.com/tensorflow/tensorflow/blob/cddf9415564b16c2bc234df68d3eb44fc8689dae/tensorflow/compiler/tf2xla/kernels/image_resize_ops.cc\n",
    "+ https://chao-ji.github.io/jekyll/update/2018/07/19/BilinearResize.html\n",
    "+ https://stackoverflow.com/questions/26142288/resize-an-image-with-bilinear-interpolation-without-imresize\n",
    "+ "
   ]
  },
  {
   "cell_type": "markdown",
   "metadata": {},
   "source": [
    "+ https://www.tensorflow.org/api_docs/python/tf/image/resize\n",
    "+ https://github.com/tensorflow/tensorflow/blob/v2.6.0/tensorflow/python/ops/image_ops_impl.py#L1547-L1723\n",
    "+ https://github.com/tensorflow/tensorflow/blob/v2.6.0/tensorflow/python/ops/init_ops_v2.py\n",
    "+ https://github.com/tensorflow/tensorflow/blob/master/tensorflow/core/kernels/image/resize_bilinear_op.cc\n",
    "+ https://github.com/tensorflow/tensorflow/blob/master/tensorflow/core/util/image_resizer_state.h\n",
    "+ https://github.com/tensorflow/tensorflow/issues/24426"
   ]
  },
  {
   "cell_type": "markdown",
   "metadata": {},
   "source": [
    "+ https://jricheimer.github.io/tensorflow/2019/02/11/resize-confusion/\n",
    "+ https://github.com/tensorflow/tensorflow/blob/master/tensorflow/lite/kernels/internal/reference/resize_bilinear.h\n",
    "+ https://stackoverflow.com/questions/26142288/resize-an-image-with-bilinear-interpolation-without-imresize"
   ]
  },
  {
   "cell_type": "code",
   "execution_count": null,
   "metadata": {},
   "outputs": [],
   "source": []
  }
 ],
 "metadata": {
  "kernelspec": {
   "display_name": "Python 3",
   "language": "python",
   "name": "python3"
  },
  "language_info": {
   "codemirror_mode": {
    "name": "ipython",
    "version": 3
   },
   "file_extension": ".py",
   "mimetype": "text/x-python",
   "name": "python",
   "nbconvert_exporter": "python",
   "pygments_lexer": "ipython3",
   "version": "3.8.5"
  }
 },
 "nbformat": 4,
 "nbformat_minor": 4
}
